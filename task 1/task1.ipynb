{
 "cells": [
  {
   "cell_type": "code",
   "execution_count": 18,
   "id": "c7f7cfa8-5450-470e-863a-af956bbc120c",
   "metadata": {},
   "outputs": [
    {
     "name": "stdout",
     "output_type": "stream",
     "text": [
      "Initial Data:\n",
      "      PatientId  AppointmentID Gender          ScheduledDay  \\\n",
      "0  2.987250e+13        5642903      F  2016-04-29T18:38:08Z   \n",
      "1  5.589978e+14        5642503      M  2016-04-29T16:08:27Z   \n",
      "2  4.262962e+12        5642549      F  2016-04-29T16:19:04Z   \n",
      "3  8.679512e+11        5642828      F  2016-04-29T17:29:31Z   \n",
      "4  8.841186e+12        5642494      F  2016-04-29T16:07:23Z   \n",
      "\n",
      "         AppointmentDay  Age      Neighbourhood  Scholarship  Hipertension  \\\n",
      "0  2016-04-29T00:00:00Z   62    JARDIM DA PENHA            0             1   \n",
      "1  2016-04-29T00:00:00Z   56    JARDIM DA PENHA            0             0   \n",
      "2  2016-04-29T00:00:00Z   62      MATA DA PRAIA            0             0   \n",
      "3  2016-04-29T00:00:00Z    8  PONTAL DE CAMBURI            0             0   \n",
      "4  2016-04-29T00:00:00Z   56    JARDIM DA PENHA            0             1   \n",
      "\n",
      "   Diabetes  Alcoholism  Handcap  SMS_received No-show  \n",
      "0         0           0        0             0      No  \n",
      "1         0           0        0             0      No  \n",
      "2         0           0        0             0      No  \n",
      "3         0           0        0             0      No  \n",
      "4         1           0        0             0      No  \n",
      "\n",
      "Shape: (110527, 14)\n"
     ]
    }
   ],
   "source": [
    "#. Load the Dataset\n",
    "import pandas as pd\n",
    "\n",
    "df = pd.read_csv(\"KaggleV2-May-2016.csv\")\n",
    "print(\"Initial Data:\")\n",
    "print(df.head())\n",
    "print(\"\\nShape:\", df.shape)\n"
   ]
  },
  {
   "cell_type": "code",
   "execution_count": 19,
   "id": "eb376c54-644b-4e27-ab57-9443cda2c6ca",
   "metadata": {},
   "outputs": [
    {
     "name": "stdout",
     "output_type": "stream",
     "text": [
      "\n",
      "Missing Values:\n",
      " PatientId         0\n",
      "AppointmentID     0\n",
      "Gender            0\n",
      "ScheduledDay      0\n",
      "AppointmentDay    0\n",
      "Age               0\n",
      "Neighbourhood     0\n",
      "Scholarship       0\n",
      "Hipertension      0\n",
      "Diabetes          0\n",
      "Alcoholism        0\n",
      "Handcap           0\n",
      "SMS_received      0\n",
      "No-show           0\n",
      "dtype: int64\n"
     ]
    }
   ],
   "source": [
    "#Check Missing Values\n",
    "print(\"\\nMissing Values:\\n\", df.isnull().sum())\n"
   ]
  },
  {
   "cell_type": "code",
   "execution_count": 20,
   "id": "d3519db5-8ae8-45de-ac85-b7b632b9ce9b",
   "metadata": {},
   "outputs": [
    {
     "name": "stdout",
     "output_type": "stream",
     "text": [
      "\n",
      "Shape after removing duplicates: (110527, 14)\n"
     ]
    }
   ],
   "source": [
    "#Remove Duplicate Rows\n",
    "df = df.drop_duplicates()\n",
    "print(\"\\nShape after removing duplicates:\", df.shape)\n"
   ]
  },
  {
   "cell_type": "code",
   "execution_count": 21,
   "id": "25ea6a09-85f7-4d2c-9ffa-5e67f1ed2961",
   "metadata": {},
   "outputs": [
    {
     "name": "stdout",
     "output_type": "stream",
     "text": [
      "\n",
      "Unique values in Gender: ['F' 'M']\n",
      "Unique values in No-show: ['NO' 'YES']\n"
     ]
    }
   ],
   "source": [
    "#Clean Text Data (e.g., Gender, No-show)\n",
    "df['Gender'] = df['Gender'].str.strip().str.upper()\n",
    "df['No-show'] = df['No-show'].str.strip().str.upper()\n",
    "\n",
    "print(\"\\nUnique values in Gender:\", df['Gender'].unique())\n",
    "print(\"Unique values in No-show:\", df['No-show'].unique())\n"
   ]
  },
  {
   "cell_type": "code",
   "execution_count": 22,
   "id": "76a7c905-e064-4da9-85f6-ce74a8d10383",
   "metadata": {},
   "outputs": [
    {
     "name": "stdout",
     "output_type": "stream",
     "text": [
      "\n",
      "Data types after datetime conversion:\n",
      " PatientId                     float64\n",
      "AppointmentID                   int64\n",
      "Gender                         object\n",
      "ScheduledDay      datetime64[ns, UTC]\n",
      "AppointmentDay    datetime64[ns, UTC]\n",
      "Age                             int64\n",
      "Neighbourhood                  object\n",
      "Scholarship                     int64\n",
      "Hipertension                    int64\n",
      "Diabetes                        int64\n",
      "Alcoholism                      int64\n",
      "Handcap                         int64\n",
      "SMS_received                    int64\n",
      "No-show                        object\n",
      "dtype: object\n"
     ]
    }
   ],
   "source": [
    "#Convert Date Columns\n",
    "df['ScheduledDay'] = pd.to_datetime(df['ScheduledDay'])\n",
    "df['AppointmentDay'] = pd.to_datetime(df['AppointmentDay'])\n",
    "\n",
    "print(\"\\nData types after datetime conversion:\\n\", df.dtypes)\n"
   ]
  },
  {
   "cell_type": "code",
   "execution_count": 23,
   "id": "fbfaf112-9b26-4a2b-90f8-dcb856b82338",
   "metadata": {},
   "outputs": [
    {
     "name": "stdout",
     "output_type": "stream",
     "text": [
      "\n",
      "Renamed columns:\n",
      " Index(['patientid', 'appointmentid', 'gender', 'scheduledday',\n",
      "       'appointmentday', 'age', 'neighbourhood', 'scholarship', 'hipertension',\n",
      "       'diabetes', 'alcoholism', 'handcap', 'sms_received', 'no_show'],\n",
      "      dtype='object')\n"
     ]
    }
   ],
   "source": [
    "#Rename Columns\n",
    "df.columns = df.columns.str.strip().str.lower().str.replace('-', '_')\n",
    "print(\"\\nRenamed columns:\\n\", df.columns)\n"
   ]
  },
  {
   "cell_type": "code",
   "execution_count": 24,
   "id": "07d3f335-d9fc-4afa-a49a-c7e4b779ced9",
   "metadata": {},
   "outputs": [
    {
     "name": "stdout",
     "output_type": "stream",
     "text": [
      "\n",
      "Age column type: int64\n"
     ]
    }
   ],
   "source": [
    "#Check and Fix Data Types\n",
    "print(\"\\nAge column type:\", df['age'].dtype)\n",
    "\n",
    "# to ensure age is integer and remove invalid values\n",
    "df = df[df['age'] >= 0]\n",
    "df['age'] = df['age'].astype(int)\n"
   ]
  },
  {
   "cell_type": "code",
   "execution_count": 25,
   "id": "bb989046-1872-4336-aaf7-554341f40948",
   "metadata": {},
   "outputs": [
    {
     "name": "stdout",
     "output_type": "stream",
     "text": [
      "\n",
      "Saved as cleaned_medical_appointments.csv\n"
     ]
    }
   ],
   "source": [
    "#Save Cleaned Data\n",
    "df.to_csv(\"cleaned_medical_appointments.csv\", index=False)\n",
    "print(\"\\nSaved as cleaned_medical_appointments.csv\")\n"
   ]
  },
  {
   "cell_type": "code",
   "execution_count": null,
   "id": "da4b7559-b893-4870-87e0-aa67f3d7678f",
   "metadata": {},
   "outputs": [],
   "source": []
  }
 ],
 "metadata": {
  "kernelspec": {
   "display_name": "Python 3 (ipykernel)",
   "language": "python",
   "name": "python3"
  },
  "language_info": {
   "codemirror_mode": {
    "name": "ipython",
    "version": 3
   },
   "file_extension": ".py",
   "mimetype": "text/x-python",
   "name": "python",
   "nbconvert_exporter": "python",
   "pygments_lexer": "ipython3",
   "version": "3.12.4"
  }
 },
 "nbformat": 4,
 "nbformat_minor": 5
}
